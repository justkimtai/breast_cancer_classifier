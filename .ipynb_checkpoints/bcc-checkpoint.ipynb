{
 "cells": [
  {
   "cell_type": "markdown",
   "id": "ac12ba99-f41c-4228-9e89-8d49b2f4ac08",
   "metadata": {},
   "source": [
    "Importing necessary libraries"
   ]
  },
  {
   "cell_type": "markdown",
   "id": "40544606-0e4f-4760-8305-7c4da4618c43",
   "metadata": {},
   "source": [
    "# Breast Cancer Classifier\n",
    "Using Scikit-learn to predict if tumors are malignant or benign with 94%+ accuracy."
   ]
  },
  {
   "cell_type": "code",
   "execution_count": null,
   "id": "4e6148be-7c94-4445-b088-daf7b4d1dc0b",
   "metadata": {},
   "outputs": [],
   "source": [
    "from sklearn.datasets import load_breast_cancer\n",
    "from sklearn.model_selection import train_test_split\n",
    "from sklearn.naive_bayes import GaussianNB\n",
    "from sklearn.metrics import accuracy_score, confusion_matrix, ConfusionMatrixDisplay\n",
    "\n",
    "import matplotlib.pyplot as plt\n",
    "\n",
    "data = load_breast_cancer()\n",
    "\n",
    "# Extract features and labels\n",
    "features = data['data']\n",
    "labels = data['target']\n",
    "\n",
    "# Split data for training and testing\n",
    "train_x, test_x, train_y, test_y = train_test_split(\n",
    "  features, labels, test_size=0.33, random_state=42\n",
    ")\n",
    "\n",
    "# Algorithm for classifying\n",
    "model = GaussianNB()\n",
    "model.fit(train_x, train_y)\n",
    "\n",
    "# Predictions\n",
    "predictions = model.predict(test_x)\n",
    "print(predictions[:5])\n",
    "\n",
    "# Accuracy score of the prediction operation\n",
    "accuracy = accuracy_score(test_y, predictions)\n",
    "print(f\"Accuracy: {accuracy * 100:.2f}%\")\n",
    "\n",
    "# Confusion matrix\n",
    "cm = confusion_matrix(test_y, predictions)\n",
    "disp = ConfusionMatrixDisplay(confusion_matrix=cm, display_labels=data.target_names)\n",
    "disp.plot(cmap=plt.cm.Blues)\n",
    "plt.title(\"COnfusion Matrix - Breast Cancer Classification\")\n",
    "plt.savefig(\"images/confusion_matrix.png\")\n",
    "plt.show()\n",
    "print(\"✅ Confusion matrix saved as confusion_matrix.png\")"
   ]
  }
 ],
 "metadata": {
  "kernelspec": {
   "display_name": "Python 3 (ipykernel)",
   "language": "python",
   "name": "python3"
  },
  "language_info": {
   "codemirror_mode": {
    "name": "ipython",
    "version": 3
   },
   "file_extension": ".py",
   "mimetype": "text/x-python",
   "name": "python",
   "nbconvert_exporter": "python",
   "pygments_lexer": "ipython3",
   "version": "3.13.3"
  }
 },
 "nbformat": 4,
 "nbformat_minor": 5
}
